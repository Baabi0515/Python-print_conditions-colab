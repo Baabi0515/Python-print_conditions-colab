{
  "nbformat": 4,
  "nbformat_minor": 0,
  "metadata": {
    "colab": {
      "provenance": [],
      "authorship_tag": "ABX9TyM5O7Bhra/nwYlk3LKeegjH",
      "include_colab_link": true
    },
    "kernelspec": {
      "name": "python3",
      "display_name": "Python 3"
    },
    "language_info": {
      "name": "python"
    }
  },
  "cells": [
    {
      "cell_type": "markdown",
      "metadata": {
        "id": "view-in-github",
        "colab_type": "text"
      },
      "source": [
        "<a href=\"https://colab.research.google.com/github/Baabi0515/Python-print_conditions-colab/blob/main/Python_Strings.ipynb\" target=\"_parent\"><img src=\"https://colab.research.google.com/assets/colab-badge.svg\" alt=\"Open In Colab\"/></a>"
      ]
    },
    {
      "cell_type": "markdown",
      "source": [
        "Memory Allocation"
      ],
      "metadata": {
        "id": "8xALxhc3r1qG"
      }
    },
    {
      "cell_type": "code",
      "source": [
        "a='data'  #will save in the memory\n",
        "print(a) #calling from memory"
      ],
      "metadata": {
        "colab": {
          "base_uri": "https://localhost:8080/"
        },
        "id": "VVZHDIK0sUGk",
        "outputId": "53ee78d7-73f4-419d-d0e6-c2d968d4cdfc"
      },
      "execution_count": null,
      "outputs": [
        {
          "output_type": "stream",
          "name": "stdout",
          "text": [
            "data\n"
          ]
        }
      ]
    },
    {
      "cell_type": "code",
      "source": [
        "a='data science'\n",
        "print(a)"
      ],
      "metadata": {
        "colab": {
          "base_uri": "https://localhost:8080/"
        },
        "id": "jw-oVuh6ssUX",
        "outputId": "feb2ec58-84ba-40e1-c3fb-e15caec96668"
      },
      "execution_count": null,
      "outputs": [
        {
          "output_type": "stream",
          "name": "stdout",
          "text": [
            "data science\n"
          ]
        }
      ]
    },
    {
      "cell_type": "code",
      "source": [
        "a='data science'\n",
        "print(a[7])"
      ],
      "metadata": {
        "colab": {
          "base_uri": "https://localhost:8080/"
        },
        "id": "TibtDwJks_eo",
        "outputId": "2e668260-502c-478c-de6f-2fa6dac1c93c"
      },
      "execution_count": null,
      "outputs": [
        {
          "output_type": "stream",
          "name": "stdout",
          "text": [
            "i\n"
          ]
        }
      ]
    },
    {
      "cell_type": "code",
      "source": [
        "print(a[2])"
      ],
      "metadata": {
        "colab": {
          "base_uri": "https://localhost:8080/"
        },
        "id": "S7EtKRNqtQvu",
        "outputId": "c2ed9e4d-a117-43d9-ae4d-6753041fe55f"
      },
      "execution_count": null,
      "outputs": [
        {
          "output_type": "stream",
          "name": "stdout",
          "text": [
            "t\n"
          ]
        }
      ]
    },
    {
      "cell_type": "code",
      "source": [
        "print(a[-10])"
      ],
      "metadata": {
        "colab": {
          "base_uri": "https://localhost:8080/"
        },
        "id": "li-f9BR9tVTt",
        "outputId": "3d5dc35e-15d4-4dc1-9396-98b4872ef5dc"
      },
      "execution_count": null,
      "outputs": [
        {
          "output_type": "stream",
          "name": "stdout",
          "text": [
            "t\n"
          ]
        }
      ]
    },
    {
      "cell_type": "code",
      "source": [
        "#Slicing :- To acess the multiple characters\n",
        "a='data science'\n",
        "print(a[2])"
      ],
      "metadata": {
        "colab": {
          "base_uri": "https://localhost:8080/"
        },
        "id": "dmYhpYLgth5r",
        "outputId": "1d31b02a-695c-4c66-b389-e72565c964ea"
      },
      "execution_count": null,
      "outputs": [
        {
          "output_type": "stream",
          "name": "stdout",
          "text": [
            "t\n"
          ]
        }
      ]
    },
    {
      "cell_type": "code",
      "source": [
        "print(a[2]+a[3])"
      ],
      "metadata": {
        "colab": {
          "base_uri": "https://localhost:8080/"
        },
        "id": "8a6cMUnSuCOj",
        "outputId": "eabd7468-a89f-464c-f5ed-c27933f467f4"
      },
      "execution_count": null,
      "outputs": [
        {
          "output_type": "stream",
          "name": "stdout",
          "text": [
            "ta\n"
          ]
        }
      ]
    },
    {
      "cell_type": "code",
      "source": [
        "'t' +'a'"
      ],
      "metadata": {
        "colab": {
          "base_uri": "https://localhost:8080/",
          "height": 36
        },
        "id": "zwtvcI0duR_y",
        "outputId": "18bc7d1b-6f9a-4caf-9d04-af15346ab5e3"
      },
      "execution_count": null,
      "outputs": [
        {
          "output_type": "execute_result",
          "data": {
            "text/plain": [
              "'ta'"
            ],
            "application/vnd.google.colaboratory.intrinsic+json": {
              "type": "string"
            }
          },
          "metadata": {},
          "execution_count": 8
        }
      ]
    },
    {
      "cell_type": "code",
      "source": [
        "print(a[2:6])"
      ],
      "metadata": {
        "colab": {
          "base_uri": "https://localhost:8080/"
        },
        "id": "u02P0cHrujYN",
        "outputId": "e40bfaf6-ff3a-422f-b1c9-26c7a2f0a41b"
      },
      "execution_count": null,
      "outputs": [
        {
          "output_type": "stream",
          "name": "stdout",
          "text": [
            "ta s\n"
          ]
        }
      ]
    },
    {
      "cell_type": "code",
      "source": [
        "print(a[2:8])"
      ],
      "metadata": {
        "colab": {
          "base_uri": "https://localhost:8080/"
        },
        "id": "4SGFeDS7uzXq",
        "outputId": "fe5119f7-f058-4977-f712-1e5bd33d7255"
      },
      "execution_count": null,
      "outputs": [
        {
          "output_type": "stream",
          "name": "stdout",
          "text": [
            "ta sci\n"
          ]
        }
      ]
    },
    {
      "cell_type": "code",
      "source": [
        "print(a[1:8])"
      ],
      "metadata": {
        "colab": {
          "base_uri": "https://localhost:8080/"
        },
        "id": "3w-HukU-u6J6",
        "outputId": "15fbf58b-a1f7-4264-96a2-2e5d483b491b"
      },
      "execution_count": null,
      "outputs": [
        {
          "output_type": "stream",
          "name": "stdout",
          "text": [
            "ata sci\n"
          ]
        }
      ]
    },
    {
      "cell_type": "code",
      "source": [
        "print(a[2: ])"
      ],
      "metadata": {
        "colab": {
          "base_uri": "https://localhost:8080/"
        },
        "id": "NFtCDzNQvEkv",
        "outputId": "bc7dcc03-f48c-4a49-ec52-00fa7144887a"
      },
      "execution_count": null,
      "outputs": [
        {
          "output_type": "stream",
          "name": "stdout",
          "text": [
            "ta science\n"
          ]
        }
      ]
    },
    {
      "cell_type": "code",
      "source": [
        "print(a[1: ])"
      ],
      "metadata": {
        "colab": {
          "base_uri": "https://localhost:8080/"
        },
        "id": "xDCN3bL_vODo",
        "outputId": "1f94156f-e342-4378-e02b-1411d4693ef5"
      },
      "execution_count": null,
      "outputs": [
        {
          "output_type": "stream",
          "name": "stdout",
          "text": [
            "ata science\n"
          ]
        }
      ]
    },
    {
      "cell_type": "code",
      "source": [
        "print(a[:: -1])"
      ],
      "metadata": {
        "colab": {
          "base_uri": "https://localhost:8080/"
        },
        "id": "JrKPkUfGvVna",
        "outputId": "8e354bf7-136d-4f98-8913-f3bd4aca11c4"
      },
      "execution_count": null,
      "outputs": [
        {
          "output_type": "stream",
          "name": "stdout",
          "text": [
            "ecneics atad\n"
          ]
        }
      ]
    },
    {
      "cell_type": "code",
      "source": [
        "# Skipping\n",
        "a='data science'\n",
        "print(a[:: 2])"
      ],
      "metadata": {
        "colab": {
          "base_uri": "https://localhost:8080/"
        },
        "id": "BCItQJiOvnoV",
        "outputId": "bd1d2a50-ec36-44db-a34d-e3bba6c1627d"
      },
      "execution_count": null,
      "outputs": [
        {
          "output_type": "stream",
          "name": "stdout",
          "text": [
            "dt cec\n"
          ]
        }
      ]
    },
    {
      "cell_type": "code",
      "source": [
        "print(a[:: 1])"
      ],
      "metadata": {
        "colab": {
          "base_uri": "https://localhost:8080/"
        },
        "id": "E4gm4oOXv_3l",
        "outputId": "41c5d30c-f513-4851-a158-4a4b5bf3c986"
      },
      "execution_count": null,
      "outputs": [
        {
          "output_type": "stream",
          "name": "stdout",
          "text": [
            "data science\n"
          ]
        }
      ]
    },
    {
      "cell_type": "code",
      "source": [
        "print(a[::3])"
      ],
      "metadata": {
        "colab": {
          "base_uri": "https://localhost:8080/"
        },
        "id": "1DhbmUoKwJWV",
        "outputId": "f010ad30-4514-491a-df89-b5f5d879c7c7"
      },
      "execution_count": null,
      "outputs": [
        {
          "output_type": "stream",
          "name": "stdout",
          "text": [
            "dacn\n"
          ]
        }
      ]
    },
    {
      "cell_type": "markdown",
      "source": [
        "String is mutable or immutable-> prove it"
      ],
      "metadata": {
        "id": "WNYm-EvpwVdC"
      }
    },
    {
      "cell_type": "code",
      "source": [
        "# trying to increase the memory\n",
        "a='data'\n",
        "a[4]='j'\n",
        "print(a)"
      ],
      "metadata": {
        "colab": {
          "base_uri": "https://localhost:8080/",
          "height": 200
        },
        "id": "9TqD7F7cwnfU",
        "outputId": "780d5d3d-26fb-43c0-bb88-03d17d04d5d5"
      },
      "execution_count": null,
      "outputs": [
        {
          "output_type": "error",
          "ename": "TypeError",
          "evalue": "'str' object does not support item assignment",
          "traceback": [
            "\u001b[0;31m---------------------------------------------------------------------------\u001b[0m",
            "\u001b[0;31mTypeError\u001b[0m                                 Traceback (most recent call last)",
            "\u001b[0;32m/tmp/ipython-input-1021231625.py\u001b[0m in \u001b[0;36m<cell line: 0>\u001b[0;34m()\u001b[0m\n\u001b[1;32m      1\u001b[0m \u001b[0;31m# trying to increase the memory\u001b[0m\u001b[0;34m\u001b[0m\u001b[0;34m\u001b[0m\u001b[0m\n\u001b[1;32m      2\u001b[0m \u001b[0ma\u001b[0m\u001b[0;34m=\u001b[0m\u001b[0;34m'data'\u001b[0m\u001b[0;34m\u001b[0m\u001b[0;34m\u001b[0m\u001b[0m\n\u001b[0;32m----> 3\u001b[0;31m \u001b[0ma\u001b[0m\u001b[0;34m[\u001b[0m\u001b[0;36m4\u001b[0m\u001b[0;34m]\u001b[0m\u001b[0;34m=\u001b[0m\u001b[0;34m'j'\u001b[0m\u001b[0;34m\u001b[0m\u001b[0;34m\u001b[0m\u001b[0m\n\u001b[0m\u001b[1;32m      4\u001b[0m \u001b[0mprint\u001b[0m\u001b[0;34m(\u001b[0m\u001b[0ma\u001b[0m\u001b[0;34m)\u001b[0m\u001b[0;34m\u001b[0m\u001b[0;34m\u001b[0m\u001b[0m\n",
            "\u001b[0;31mTypeError\u001b[0m: 'str' object does not support item assignment"
          ]
        }
      ]
    },
    {
      "cell_type": "code",
      "source": [
        "# to reduce the memory\n",
        "a='data'\n",
        "del a[2]\n",
        "print(a)"
      ],
      "metadata": {
        "colab": {
          "base_uri": "https://localhost:8080/",
          "height": 200
        },
        "id": "H_VDyxvzxjfM",
        "outputId": "eb77628a-6533-406e-c3bf-260cc84d5a68"
      },
      "execution_count": null,
      "outputs": [
        {
          "output_type": "error",
          "ename": "TypeError",
          "evalue": "'str' object doesn't support item deletion",
          "traceback": [
            "\u001b[0;31m---------------------------------------------------------------------------\u001b[0m",
            "\u001b[0;31mTypeError\u001b[0m                                 Traceback (most recent call last)",
            "\u001b[0;32m/tmp/ipython-input-3416065598.py\u001b[0m in \u001b[0;36m<cell line: 0>\u001b[0;34m()\u001b[0m\n\u001b[1;32m      1\u001b[0m \u001b[0;31m# to reduce the memory\u001b[0m\u001b[0;34m\u001b[0m\u001b[0;34m\u001b[0m\u001b[0m\n\u001b[1;32m      2\u001b[0m \u001b[0ma\u001b[0m\u001b[0;34m=\u001b[0m\u001b[0;34m'data'\u001b[0m\u001b[0;34m\u001b[0m\u001b[0;34m\u001b[0m\u001b[0m\n\u001b[0;32m----> 3\u001b[0;31m \u001b[0;32mdel\u001b[0m \u001b[0ma\u001b[0m\u001b[0;34m[\u001b[0m\u001b[0;36m2\u001b[0m\u001b[0;34m]\u001b[0m\u001b[0;34m\u001b[0m\u001b[0;34m\u001b[0m\u001b[0m\n\u001b[0m\u001b[1;32m      4\u001b[0m \u001b[0mprint\u001b[0m\u001b[0;34m(\u001b[0m\u001b[0ma\u001b[0m\u001b[0;34m)\u001b[0m\u001b[0;34m\u001b[0m\u001b[0;34m\u001b[0m\u001b[0m\n",
            "\u001b[0;31mTypeError\u001b[0m: 'str' object doesn't support item deletion"
          ]
        }
      ]
    },
    {
      "cell_type": "markdown",
      "source": [
        "From above the operation string is immutable"
      ],
      "metadata": {
        "id": "N_-RuMuKx2hr"
      }
    },
    {
      "cell_type": "markdown",
      "source": [
        "Built_in_functions-> in strings"
      ],
      "metadata": {
        "id": "wOLC78CLyDmP"
      }
    },
    {
      "cell_type": "code",
      "source": [
        "import math"
      ],
      "metadata": {
        "id": "0oB2fW0xyOus"
      },
      "execution_count": null,
      "outputs": []
    },
    {
      "cell_type": "code",
      "source": [
        "len(dir (math))"
      ],
      "metadata": {
        "colab": {
          "base_uri": "https://localhost:8080/"
        },
        "id": "o4TLWhYtyUUH",
        "outputId": "d64d5f20-55c2-4528-f425-e3bde49fd579"
      },
      "execution_count": null,
      "outputs": [
        {
          "output_type": "execute_result",
          "data": {
            "text/plain": [
              "65"
            ]
          },
          "metadata": {},
          "execution_count": 22
        }
      ]
    },
    {
      "cell_type": "code",
      "source": [
        "len(dir(str))"
      ],
      "metadata": {
        "colab": {
          "base_uri": "https://localhost:8080/"
        },
        "id": "h93qhNAPytNB",
        "outputId": "e9beb9a6-e536-443a-a63d-f0ec427a7502"
      },
      "execution_count": null,
      "outputs": [
        {
          "output_type": "execute_result",
          "data": {
            "text/plain": [
              "81"
            ]
          },
          "metadata": {},
          "execution_count": 25
        }
      ]
    },
    {
      "cell_type": "markdown",
      "source": [
        "Functions for data science Community\n",
        "\n",
        "capitalize\n",
        "\n",
        "title\n",
        "\n",
        "lower\n",
        "\n",
        "upper\n",
        "\n",
        "islower\n",
        "\n",
        "isupper\n",
        "\n",
        "isalpha\n",
        "\n",
        "isnumeric\n",
        "\n",
        "isalnum\n",
        "\n",
        "startswith\n",
        "\n",
        "endswith\n",
        "\n",
        "replace\n",
        "\n",
        "membership\n",
        "\n",
        "Ascii concepts\n",
        "\n",
        "ord\n",
        "\n",
        "chr\n",
        "\n",
        "split\n",
        "\n",
        "join\n",
        "\n",
        "count\n",
        "\n",
        "\n"
      ],
      "metadata": {
        "id": "ZLnz87H0zfW0"
      }
    },
    {
      "cell_type": "code",
      "source": [
        "# capitalize-> this function will convert only first letter into capital and remaining all into small letters\n",
        "\n",
        "a=\"inDIA\"\n",
        "\n",
        "a=a.capitalize()\n",
        "print(a)"
      ],
      "metadata": {
        "colab": {
          "base_uri": "https://localhost:8080/"
        },
        "id": "FInjp0OCE3tD",
        "outputId": "3d78e0ec-e329-471a-a4c8-26c0a9a5ddca"
      },
      "execution_count": null,
      "outputs": [
        {
          "output_type": "stream",
          "name": "stdout",
          "text": [
            "India\n"
          ]
        }
      ]
    },
    {
      "cell_type": "code",
      "source": [
        "# capitalize-> this function will convert only first letter into capital and remaining all into small letters\n",
        "\n",
        "a=\"i Am worKINg in inDIA\"\n",
        "\n",
        "a=a.capitalize()\n",
        "print(a)"
      ],
      "metadata": {
        "colab": {
          "base_uri": "https://localhost:8080/"
        },
        "id": "ZKMDpNIdGmsy",
        "outputId": "c34f3453-0688-4499-9dff-05623479a2fd"
      },
      "execution_count": null,
      "outputs": [
        {
          "output_type": "stream",
          "name": "stdout",
          "text": [
            "I am working in india\n"
          ]
        }
      ]
    },
    {
      "cell_type": "code",
      "source": [
        "# Tittle->This function will convert each word first letter into capital and remaining all into small\n",
        "a=\"i Am worKINg in inDIA\"\n",
        "a=a.title()\n",
        "print(a)"
      ],
      "metadata": {
        "colab": {
          "base_uri": "https://localhost:8080/"
        },
        "id": "hFSLP4lyHKM0",
        "outputId": "9ae5dcfc-2753-4790-e122-627c3dabed90"
      },
      "execution_count": null,
      "outputs": [
        {
          "output_type": "stream",
          "name": "stdout",
          "text": [
            "I Am Working In India\n"
          ]
        }
      ]
    },
    {
      "cell_type": "code",
      "source": [
        "# lower->This function is used to convert into all capital letters into small if all small means small only\n",
        "\n",
        "a='inDIA'\n",
        "a=a.lower()\n",
        "print(a)"
      ],
      "metadata": {
        "colab": {
          "base_uri": "https://localhost:8080/"
        },
        "id": "ZMqjLVLsH_3Z",
        "outputId": "72c3fcd1-164d-456f-c274-b150ddd5fd6f"
      },
      "execution_count": null,
      "outputs": [
        {
          "output_type": "stream",
          "name": "stdout",
          "text": [
            "india\n"
          ]
        }
      ]
    },
    {
      "cell_type": "code",
      "source": [
        "# upper->This function is used to convert into all small letters into captial if all captial means captial only\n",
        "\n",
        "a='inDIA'\n",
        "a=a.upper()\n",
        "print(a)"
      ],
      "metadata": {
        "colab": {
          "base_uri": "https://localhost:8080/"
        },
        "id": "2L8aYgmTO_S8",
        "outputId": "7355ea01-841c-405c-84c9-082af832466b"
      },
      "execution_count": null,
      "outputs": [
        {
          "output_type": "stream",
          "name": "stdout",
          "text": [
            "INDIA\n"
          ]
        }
      ]
    },
    {
      "cell_type": "code",
      "source": [
        "#Replace= This function is the replace the characters\n",
        "\n",
        "a='data'\n",
        "a=a.replace('t','j')\n",
        "print(a)"
      ],
      "metadata": {
        "colab": {
          "base_uri": "https://localhost:8080/"
        },
        "id": "ccByCPkdPbY4",
        "outputId": "f72070f5-662b-4d3e-df9c-9b2fe3cc547b"
      },
      "execution_count": null,
      "outputs": [
        {
          "output_type": "stream",
          "name": "stdout",
          "text": [
            "daja\n"
          ]
        }
      ]
    },
    {
      "cell_type": "code",
      "source": [
        "#Replace= This function is the replace the characters\n",
        "\n",
        "a='data science'\n",
        "a=a.replace('a','p')\n",
        "print(a)"
      ],
      "metadata": {
        "colab": {
          "base_uri": "https://localhost:8080/"
        },
        "id": "W9X_4Z-HQYmo",
        "outputId": "435f5cec-b435-429e-aa1e-5d1a85be126c"
      },
      "execution_count": null,
      "outputs": [
        {
          "output_type": "stream",
          "name": "stdout",
          "text": [
            "dptp science\n"
          ]
        }
      ]
    },
    {
      "cell_type": "code",
      "source": [
        "#Replace= This function is the replace the characters\n",
        "\n",
        "a='data science'\n",
        "a=a.replace('a','p',1)\n",
        "print(a)"
      ],
      "metadata": {
        "colab": {
          "base_uri": "https://localhost:8080/"
        },
        "id": "u_gE6hKkQjoh",
        "outputId": "0d138720-6c7b-4d79-9da5-22dcf3e33f89"
      },
      "execution_count": null,
      "outputs": [
        {
          "output_type": "stream",
          "name": "stdout",
          "text": [
            "dpta science\n"
          ]
        }
      ]
    },
    {
      "cell_type": "code",
      "source": [
        "# is lower->will check whether all are small are not\n",
        "a='inDIA'\n",
        "a=a.islower()\n",
        "print(a)"
      ],
      "metadata": {
        "colab": {
          "base_uri": "https://localhost:8080/"
        },
        "id": "cZsL8-sxi3oT",
        "outputId": "ae7287b5-5490-4818-ea5d-cd0f8f8d439b"
      },
      "execution_count": null,
      "outputs": [
        {
          "output_type": "stream",
          "name": "stdout",
          "text": [
            "False\n"
          ]
        }
      ]
    },
    {
      "cell_type": "code",
      "source": [
        "# is lower->will check whether all are small are not\n",
        "a='india'\n",
        "a=a.islower()\n",
        "print(a)"
      ],
      "metadata": {
        "colab": {
          "base_uri": "https://localhost:8080/"
        },
        "id": "taG4cScbjrsV",
        "outputId": "792bba50-0e1b-46ba-e0e0-66de2af9138d"
      },
      "execution_count": null,
      "outputs": [
        {
          "output_type": "stream",
          "name": "stdout",
          "text": [
            "True\n"
          ]
        }
      ]
    },
    {
      "cell_type": "code",
      "source": [
        "# is upper-> will check whether all are capital or not\n",
        "a='INDIA'\n",
        "a=a.isupper()\n",
        "print(a)"
      ],
      "metadata": {
        "colab": {
          "base_uri": "https://localhost:8080/"
        },
        "id": "Cp1DPSyojzG-",
        "outputId": "6674b8af-bb10-4caf-e28b-af018b2aab0c"
      },
      "execution_count": null,
      "outputs": [
        {
          "output_type": "stream",
          "name": "stdout",
          "text": [
            "True\n"
          ]
        }
      ]
    },
    {
      "cell_type": "code",
      "source": [
        "#is alpha-> will check whether all are alpha are not\n",
        "a='unitedkingdom123'\n",
        "a=a.isalpha()\n",
        "print(a)"
      ],
      "metadata": {
        "colab": {
          "base_uri": "https://localhost:8080/"
        },
        "id": "zWKHIQxCkQIr",
        "outputId": "103d49b2-50ac-44e2-a36f-6191b161a58d"
      },
      "execution_count": null,
      "outputs": [
        {
          "output_type": "stream",
          "name": "stdout",
          "text": [
            "False\n"
          ]
        }
      ]
    },
    {
      "cell_type": "code",
      "source": [
        "#is alpha-> will check whether all are alpha are not\n",
        "a='unitedkingdom'\n",
        "a=a.isalpha()\n",
        "print(a)"
      ],
      "metadata": {
        "colab": {
          "base_uri": "https://localhost:8080/"
        },
        "id": "bEV04mOUk-1a",
        "outputId": "63d5a0f1-3c87-409f-c85c-fc1ee8223191"
      },
      "execution_count": null,
      "outputs": [
        {
          "output_type": "stream",
          "name": "stdout",
          "text": [
            "True\n"
          ]
        }
      ]
    },
    {
      "cell_type": "code",
      "source": [
        "#is numeric->will check whether all are numeric are not\n",
        "\n",
        "a='12345'\n",
        "a=a.isnumeric()\n",
        "print(a)"
      ],
      "metadata": {
        "colab": {
          "base_uri": "https://localhost:8080/"
        },
        "id": "2cohg0G-lDuG",
        "outputId": "420762a4-0139-47c8-c65a-ab0c88df1ca1"
      },
      "execution_count": null,
      "outputs": [
        {
          "output_type": "stream",
          "name": "stdout",
          "text": [
            "True\n"
          ]
        }
      ]
    },
    {
      "cell_type": "code",
      "source": [
        "#is numeric->will check whether all are numeric are not\n",
        "\n",
        "a='12345absd'\n",
        "a=a.isnumeric()\n",
        "print(a)"
      ],
      "metadata": {
        "colab": {
          "base_uri": "https://localhost:8080/"
        },
        "id": "pbTCUmdwlvd6",
        "outputId": "387a9164-4637-4cbe-c637-3b567e8e0465"
      },
      "execution_count": null,
      "outputs": [
        {
          "output_type": "stream",
          "name": "stdout",
          "text": [
            "False\n"
          ]
        }
      ]
    },
    {
      "cell_type": "code",
      "source": [
        "#isalnum-> any thing is possible\n",
        "\n",
        "a='12345absd'\n",
        "a=a.isalnum()\n",
        "print(a)"
      ],
      "metadata": {
        "colab": {
          "base_uri": "https://localhost:8080/"
        },
        "id": "L8kfEfSAl295",
        "outputId": "4224c090-09e7-4dfc-94ae-25e975d2c2d0"
      },
      "execution_count": null,
      "outputs": [
        {
          "output_type": "stream",
          "name": "stdout",
          "text": [
            "True\n"
          ]
        }
      ]
    },
    {
      "cell_type": "code",
      "source": [
        "# startswith->check whether the character is starting are not\n",
        "\n",
        "a=\"data science\"\n",
        "a=a.startswith('d')\n",
        "print(a)\n"
      ],
      "metadata": {
        "colab": {
          "base_uri": "https://localhost:8080/"
        },
        "id": "DMZajswcmgvg",
        "outputId": "f11536b0-4de5-4ec6-80a8-9d06a5a0bfcd"
      },
      "execution_count": null,
      "outputs": [
        {
          "output_type": "stream",
          "name": "stdout",
          "text": [
            "True\n"
          ]
        }
      ]
    },
    {
      "cell_type": "code",
      "source": [
        "#endswith-> check whether the character is ending are not\n",
        "\n",
        "a=\"data science\"\n",
        "a=a.endswith('e')\n",
        "print(a)"
      ],
      "metadata": {
        "colab": {
          "base_uri": "https://localhost:8080/"
        },
        "id": "FCCwgAUEnVL-",
        "outputId": "e25b4681-336e-4073-b1bc-080aea024778"
      },
      "execution_count": null,
      "outputs": [
        {
          "output_type": "stream",
          "name": "stdout",
          "text": [
            "True\n"
          ]
        }
      ]
    },
    {
      "cell_type": "code",
      "source": [
        "#count->is used to count the number of characters\n",
        "a='data science'\n",
        "a=a.count('a')\n",
        "print(a)"
      ],
      "metadata": {
        "colab": {
          "base_uri": "https://localhost:8080/"
        },
        "id": "pvI6RSJvn0hu",
        "outputId": "7b132268-500f-4040-a8e4-50ca7a0d13a1"
      },
      "execution_count": null,
      "outputs": [
        {
          "output_type": "stream",
          "name": "stdout",
          "text": [
            "2\n"
          ]
        }
      ]
    },
    {
      "cell_type": "code",
      "source": [
        "a='data science'\n",
        "a=a.count('n')\n",
        "print(a)"
      ],
      "metadata": {
        "colab": {
          "base_uri": "https://localhost:8080/"
        },
        "id": "VehA1jCToZI_",
        "outputId": "cd7c4d14-432c-491d-bb5b-52e758a9cd92"
      },
      "execution_count": null,
      "outputs": [
        {
          "output_type": "stream",
          "name": "stdout",
          "text": [
            "1\n"
          ]
        }
      ]
    },
    {
      "cell_type": "code",
      "source": [
        "#index->used to find the index\n",
        "a='data science'\n",
        "a=a.index('t')\n",
        "print(a)"
      ],
      "metadata": {
        "colab": {
          "base_uri": "https://localhost:8080/"
        },
        "id": "SaOjsU8woeG9",
        "outputId": "3992eaca-70e5-4554-9570-2ff95a81e4a2"
      },
      "execution_count": null,
      "outputs": [
        {
          "output_type": "stream",
          "name": "stdout",
          "text": [
            "2\n"
          ]
        }
      ]
    },
    {
      "cell_type": "code",
      "source": [
        "a='I am from india'  # deafaulty will break at space\n",
        "b=a.split()\n",
        "print(b)"
      ],
      "metadata": {
        "colab": {
          "base_uri": "https://localhost:8080/"
        },
        "id": "jPP4yfZbhBwU",
        "outputId": "45491d04-26f0-4c37-9e91-a02c17083032"
      },
      "execution_count": null,
      "outputs": [
        {
          "output_type": "stream",
          "name": "stdout",
          "text": [
            "['I', 'am', 'from', 'india']\n"
          ]
        }
      ]
    },
    {
      "cell_type": "code",
      "source": [
        "a='I am.from.india'\n",
        "b=a.split('.')\n",
        "print(b)"
      ],
      "metadata": {
        "colab": {
          "base_uri": "https://localhost:8080/"
        },
        "id": "t1XkTjEUh0T3",
        "outputId": "0a8b5ed1-3262-42cb-906f-6798b7c0ea31"
      },
      "execution_count": null,
      "outputs": [
        {
          "output_type": "stream",
          "name": "stdout",
          "text": [
            "['I am', 'from', 'india']\n"
          ]
        }
      ]
    },
    {
      "cell_type": "code",
      "source": [
        "# join\n",
        "a=['usa','uk','india']\n",
        "b='+'.join(a)\n",
        "print(b)"
      ],
      "metadata": {
        "colab": {
          "base_uri": "https://localhost:8080/"
        },
        "id": "k0PpjmKziOQN",
        "outputId": "7afba379-5baa-48f4-bf04-8fdf46cc5b4b"
      },
      "execution_count": null,
      "outputs": [
        {
          "output_type": "stream",
          "name": "stdout",
          "text": [
            "usa+uk+india\n"
          ]
        }
      ]
    },
    {
      "cell_type": "code",
      "source": [
        "#join\n",
        "a=['india','america','canada']\n",
        "b='_'.join(a)\n",
        "print(b)"
      ],
      "metadata": {
        "colab": {
          "base_uri": "https://localhost:8080/"
        },
        "id": "U4pr0okEkP7c",
        "outputId": "4b35074a-8175-438a-df32-173787201c6d"
      },
      "execution_count": null,
      "outputs": [
        {
          "output_type": "stream",
          "name": "stdout",
          "text": [
            "india_america_canada\n"
          ]
        }
      ]
    },
    {
      "cell_type": "code",
      "source": [
        "a='india usa uk'\n",
        "b=a.split()\n",
        "print(b)\n",
        "b.append('canada')\n",
        "print(b)\n",
        "c='_'.join(b)\n",
        "print(c)"
      ],
      "metadata": {
        "colab": {
          "base_uri": "https://localhost:8080/"
        },
        "id": "Ax5LRLXDlGDp",
        "outputId": "c5a210fe-f151-4ab4-fce3-3081b563e6d6"
      },
      "execution_count": null,
      "outputs": [
        {
          "output_type": "stream",
          "name": "stdout",
          "text": [
            "['india', 'usa', 'uk']\n",
            "['india', 'usa', 'uk', 'canada']\n",
            "india_usa_uk_canada\n"
          ]
        }
      ]
    },
    {
      "cell_type": "code",
      "source": [
        "a='india uk usa'\n",
        "\n",
        "b=a.split()\n",
        "print(b)\n",
        "b.append('singapore')\n",
        "print(b)\n",
        "c='_'.join(b)\n",
        "print(c)"
      ],
      "metadata": {
        "colab": {
          "base_uri": "https://localhost:8080/"
        },
        "id": "BITePNBXFMpf",
        "outputId": "d0fc69d6-5409-4b2d-b01b-f305859b1146"
      },
      "execution_count": null,
      "outputs": [
        {
          "output_type": "stream",
          "name": "stdout",
          "text": [
            "['india', 'uk', 'usa']\n",
            "['india', 'uk', 'usa', 'singapore']\n",
            "india_uk_usa_singapore\n"
          ]
        }
      ]
    },
    {
      "cell_type": "code",
      "source": [
        "# split\n",
        "a= 'iam learning in python'\n",
        "b=a.split( )\n",
        "print(b)"
      ],
      "metadata": {
        "colab": {
          "base_uri": "https://localhost:8080/"
        },
        "id": "h4o4GwXzGGAH",
        "outputId": "1958f46f-d0a4-432a-c37f-6b2c6d473a04"
      },
      "execution_count": null,
      "outputs": [
        {
          "output_type": "stream",
          "name": "stdout",
          "text": [
            "['iam', 'learning', 'in', 'python']\n"
          ]
        }
      ]
    },
    {
      "cell_type": "code",
      "source": [
        "#split\n",
        "a = 'I am .learning. in.python'\n",
        "b=a.split('.')\n",
        "print(b)"
      ],
      "metadata": {
        "colab": {
          "base_uri": "https://localhost:8080/"
        },
        "id": "B--NWGTkHWYc",
        "outputId": "5aa93f05-5273-42a8-cfca-230e07a51256"
      },
      "execution_count": null,
      "outputs": [
        {
          "output_type": "stream",
          "name": "stdout",
          "text": [
            "['I am ', 'learning', ' in', 'python']\n"
          ]
        }
      ]
    },
    {
      "cell_type": "code",
      "source": [
        "# Remove vowels\n",
        "a = 'data science'\n",
        "\n",
        "b=list(a)\n",
        "print(b)\n",
        "\n",
        "b.remove('a')\n",
        "b.remove('e')\n",
        "b.remove('i')\n",
        "b.remove('a')\n",
        "b.remove('e')\n",
        "\n",
        "c = ''.join(b)\n",
        "print(c)"
      ],
      "metadata": {
        "colab": {
          "base_uri": "https://localhost:8080/"
        },
        "id": "CTdsW6LLIeEp",
        "outputId": "71f7106a-5f9d-488b-cc30-faedf9738f58"
      },
      "execution_count": null,
      "outputs": [
        {
          "output_type": "stream",
          "name": "stdout",
          "text": [
            "['d', 'a', 't', 'a', ' ', 's', 'c', 'i', 'e', 'n', 'c', 'e']\n",
            "dt scnc\n"
          ]
        }
      ]
    },
    {
      "cell_type": "code",
      "source": [
        "# Netmeds interview question\n",
        "\n",
        "a = 'i.love.programming.language'\n",
        "\n",
        "# output = language.programming.love.i\n",
        "\n",
        "'.'.join('i. love .programming.language'.split('.')[::-1])"
      ],
      "metadata": {
        "colab": {
          "base_uri": "https://localhost:8080/",
          "height": 36
        },
        "id": "HqhYU4s8Neoh",
        "outputId": "e1003ec7-d9cd-4b0c-a5b3-54f29540da2d"
      },
      "execution_count": null,
      "outputs": [
        {
          "output_type": "execute_result",
          "data": {
            "text/plain": [
              "'language.programming. love .i'"
            ],
            "application/vnd.google.colaboratory.intrinsic+json": {
              "type": "string"
            }
          },
          "metadata": {},
          "execution_count": 19
        }
      ]
    },
    {
      "cell_type": "code",
      "source": [
        "'.'.join('i.love.programming.language'.split('.')[::-1])"
      ],
      "metadata": {
        "colab": {
          "base_uri": "https://localhost:8080/",
          "height": 36
        },
        "id": "aBn9yaeKOo3m",
        "outputId": "745f6151-a5af-429e-dae6-ddfa4fd66bcb"
      },
      "execution_count": null,
      "outputs": [
        {
          "output_type": "execute_result",
          "data": {
            "text/plain": [
              "'language.programming.love.i'"
            ],
            "application/vnd.google.colaboratory.intrinsic+json": {
              "type": "string"
            }
          },
          "metadata": {},
          "execution_count": 21
        }
      ]
    }
  ]
}